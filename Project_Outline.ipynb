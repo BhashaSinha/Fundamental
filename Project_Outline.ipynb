{
  "nbformat": 4,
  "nbformat_minor": 0,
  "metadata": {
    "colab": {
      "name": "Movie Recommendation System.ipynb",
      "provenance": [],
      "authorship_tag": "ABX9TyPZl4d0nA5Qmq8X1mDqSb1O"
    },
    "kernelspec": {
      "name": "python3",
      "display_name": "Python 3"
    },
    "language_info": {
      "name": "python"
    }
  },
  "cells": [
    {
      "cell_type": "markdown",
      "source": ["# **Movie Recommendation System**"],
      "metadata": {
        "id": "dqZ-nhxiganh"
      }
    },
    {
      "cell_type": "markdown",
      "source": ["-------------"],
      "metadata": {
        "id": "gScHkw6jjrLo"
      }
    },
    {
      "cell_type": "markdown",
      "source": ["## **Objective**"],
      "metadata": {
        "id": "Xns_rCdhh-vZ"
      }
    },
    {
      "cell_type": "markdown",
      "source": [
        "The objective of this project is to build a movie recommendation system that suggests movies to users based on their preferences. This system will utilize collaborative filtering techniques and content-based filtering to provide personalized recommendations."
      ],
      "metadata": {
        "id": "9sPvnFM1iI9l"
      }
    },
    {
      "cell_type": "markdown",
      "source": ["## **Data Source**"],
      "metadata": {
        "id": "-Vbnt9CciKJP"
      }
    },
    {
      "cell_type": "markdown",
      "source": [
        "- MovieLens dataset: A widely used dataset for movie recommendations that includes user ratings and movie metadata. You can download it from [MovieLens](https://grouplens.org/datasets/movielens/).\n",
        "- IMDB dataset: Additional movie metadata can be gathered from the IMDB dataset available at [IMDB](https://www.imdb.com/interfaces/)."
      ],
      "metadata": {
        "id": "sGcv5WqQiNyl"
      }
    },
    {
      "cell_type": "markdown",
      "source": ["## **Import Library**"],
      "metadata": {
        "id": "r7GrZzX0iTlV"
      }
    },
    {
      "cell_type": "code",
      "source": [
        "import numpy as np\n",
        "import pandas as pd\n",
        "import matplotlib.pyplot as plt\n",
        "import seaborn as sns\n",
        "from sklearn.model_selection import train_test_split\n",
        "from sklearn.metrics.pairwise import cosine_similarity\n",
        "from sklearn.metrics import mean_squared_error\n",
        "import warnings\n",
        "warnings.filterwarnings('ignore')"
      ],
      "metadata": {
        "id": "UkK6NH9DiW-X"
      },
      "execution_count": null,
      "outputs": []
    },
    {
      "cell_type": "markdown",
      "source": ["## **Import Data**"],
      "metadata": {
        "id": "9lHPQj1XiOUc"
      }
    },
    {
      "cell_type": "code",
      "source": [
        "# Load the MovieLens dataset\n",
        "movies = pd.read_csv('movies.csv')\n",
        "ratings = pd.read_csv('ratings.csv')\n",
        "\n",
        "# Display the first few rows of the datasets\n",
        "movies.head(), ratings.head()"
      ],
      "metadata": {
        "id": "zcU1fdnGho6M"
      },
      "execution_count": null,
      "outputs": []
    },
    {
      "cell_type": "markdown",
      "source": ["## **Describe Data**"],
      "metadata": {
        "id": "7PUnimBoiX-x"
      }
    },
    {
      "cell_type": "code",
      "source": [
        "# Describe the movies dataset\n",
        "movies.info()\n",
        "movies.describe()\n",
        "\n",
        "# Describe the ratings dataset\n",
        "ratings.info()\n",
        "ratings.describe()"
      ],
      "metadata": {
        "id": "kG15arusiZ8Z"
      },
      "execution_count": null,
      "outputs": []
    },
    {
      "cell_type": "markdown",
      "source": ["## **Data Visualization**"],
      "metadata": {
        "id": "oBGX4Ekniriz"
      }
    },
    {
      "cell_type": "code",
      "source": [
        "# Plot the distribution of movie ratings\n",
        "plt.figure(figsize=(10, 6))\n",
        "sns.histplot(ratings['rating'], bins=10, kde=False)\n",
        "plt.title('Distribution of Movie Ratings')\n",
        "plt.xlabel('Rating')\n",
        "plt.ylabel('Count')\n",
        "plt.show()\n",
        "\n",
        "# Plot the number of ratings per movie\n",
        "ratings_per_movie = ratings['movieId'].value_counts()\n",
        "plt.figure(figsize=(10, 6))\n",
        "sns.histplot(ratings_per_movie, bins=50, kde=False)\n",
        "plt.title('Number of Ratings per Movie')\n",
        "plt.xlabel('Number of Ratings')\n",
        "plt.ylabel('Count')\n",
        "plt.show()"
      ],
      "metadata": {
        "id": "lW-OIRK0iuzO"
      },
      "execution_count": null,
      "outputs": []
    },
    {
      "cell_type": "markdown",
      "source": ["## **Data Preprocessing**"],
      "metadata": {
        "id": "UqfyPOCYiiww"
      }
    },
    {
      "cell_type": "code",
      "source": [
        "# Merge the movies and ratings datasets\n",
        "data = pd.merge(ratings, movies, on='movieId')\n",
        "\n",
        "# Extract year from the title column\n",
        "data['year'] = data['title'].str.extract(r'\\((\\d{4})\\)', expand=False)\n",
        "data['year'] = data['year'].astype(float)\n",
        "\n",
        "# Fill missing values in the year column with the median year\n",
        "data['year'].fillna(data['year'].median(), inplace=True)\n",
        "\n",
        "# Drop unnecessary columns\n",
        "data.drop(columns=['timestamp'], inplace=True)\n",
        "\n",
        "data.head()"
      ],
      "metadata": {
        "id": "3cyr3fbGin0A"
      },
      "execution_count": null,
      "outputs": []
    },
    {
      "cell_type": "markdown",
      "source": ["## **Define Target Variable (y) and Feature Variables (X)**"],
      "metadata": {
        "id": "2jXJpdAuiwYW"
      }
    },
    {
      "cell_type": "code",
      "source": [
        "# In collaborative filtering, we typically work with a user-item matrix.\n",
        "# Here, our target variable will be the rating, and our features will be the user and movie IDs.\n",
        "\n",
        "# Create a user-item matrix\n",
        "user_item_matrix = data.pivot_table(index='userId', columns='movieId', values='rating')\n",
        "user_item_matrix.fillna(0, inplace=True)\n",
        "\n",
        "user_item_matrix.head()"
      ],
      "metadata": {
        "id": "QBCakTuli57t"
      },
      "execution_count": null,
      "outputs": []
    },
    {
      "cell_type": "markdown",
      "source": ["## **Train Test Split**"],
      "metadata": {
        "id": "90_0q_Pbi658"
      }
    },
    {
      "cell_type": "code",
      "source": [
        "# Split the data into training and testing sets\n",
        "train_data, test_data = train_test_split(data, test_size=0.2, random_state=42)\n",
        "\n",
        "# Create user-item matrices for training and testing sets\n",
        "train_user_item_matrix = train_data.pivot_table(index='userId', columns='movieId', values='rating')\n",
        "test_user_item_matrix = test_data.pivot_table(index='userId', columns='movieId', values='rating')\n",
        "\n",
        "train_user_item_matrix.fillna(0, inplace=True)\n",
        "test_user_item_matrix.fillna(0, inplace=True)\n",
        "\n",
        "train_user_item_matrix.head(), test_user_item_matrix.head()"
      ],
      "metadata": {
        "id": "u60YYaOFi-Dw"
      },
      "execution_count": null,
      "outputs": []
    },
    {
      "cell_type": "markdown",
      "source
